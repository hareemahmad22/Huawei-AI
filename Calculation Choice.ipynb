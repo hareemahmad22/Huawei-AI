{
 "cells": [
  {
   "cell_type": "code",
   "execution_count": null,
   "id": "f59b2474-fc61-49af-a6b0-f615c2c14210",
   "metadata": {},
   "outputs": [],
   "source": []
  }
 ],
 "metadata": {
  "kernelspec": {
   "display_name": "",
   "name": ""
  },
  "language_info": {
   "name": ""
  }
 },
 "nbformat": 4,
 "nbformat_minor": 5
}
