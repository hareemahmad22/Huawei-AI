{
 "cells": [
  {
   "cell_type": "code",
   "execution_count": null,
   "id": "af23175d-46f1-49fb-8a8f-72dab7de5c62",
   "metadata": {},
   "outputs": [],
   "source": []
  }
 ],
 "metadata": {
  "kernelspec": {
   "display_name": "",
   "name": ""
  },
  "language_info": {
   "name": ""
  }
 },
 "nbformat": 4,
 "nbformat_minor": 5
}
