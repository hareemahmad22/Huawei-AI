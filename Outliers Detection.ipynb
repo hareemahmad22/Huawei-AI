{
 "cells": [
  {
   "cell_type": "code",
   "execution_count": null,
   "id": "8cfa7933-de67-46ee-8989-2c1bf989e06f",
   "metadata": {},
   "outputs": [],
   "source": []
  }
 ],
 "metadata": {
  "kernelspec": {
   "display_name": "",
   "name": ""
  },
  "language_info": {
   "name": ""
  }
 },
 "nbformat": 4,
 "nbformat_minor": 5
}
